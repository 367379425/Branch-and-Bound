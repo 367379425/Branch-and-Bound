{
 "cells": [
  {
   "cell_type": "code",
   "execution_count": 3,
   "id": "c79c70be",
   "metadata": {},
   "outputs": [],
   "source": [
    "import gurobipy as grb\n",
    "import numpy as np\n",
    "import copy\n",
    "import os\n",
    "import CreateBaseModel as cbm"
   ]
  },
  {
   "cell_type": "code",
   "execution_count": 21,
   "id": "57eb7d48",
   "metadata": {},
   "outputs": [
    {
     "name": "stdout",
     "output_type": "stream",
     "text": [
      "Read LP format model from file .\\test_model\\SimpleIPModel_01.lp\n",
      "Reading time = 0.00 seconds\n",
      ": 2 rows, 2 columns, 4 nonzeros\n"
     ]
    }
   ],
   "source": [
    "m = grb.read(r'.\\test_model\\SimpleIPModel_01.lp')"
   ]
  },
  {
   "cell_type": "code",
   "execution_count": 8,
   "id": "4fc457b0",
   "metadata": {},
   "outputs": [
    {
     "data": {
      "text/plain": [
       "'I'"
      ]
     },
     "execution_count": 8,
     "metadata": {},
     "output_type": "execute_result"
    }
   ],
   "source": [
    "m.getVars()[0].vtype"
   ]
  },
  {
   "cell_type": "markdown",
   "id": "2ad29cd6",
   "metadata": {},
   "source": [
    "# N. Wang\n",
    "# 2024-06\n",
    "# Branch and Bound Algorithm"
   ]
  },
  {
   "cell_type": "code",
   "execution_count": 81,
   "id": "64446a75",
   "metadata": {},
   "outputs": [],
   "source": [
    "def create_model(model_name='Model', model_var=add_var, model_CnO=add_CnO_simple_IP_model_01):\n",
    "    created_model = grb.Model(model_name)\n",
    "    \n",
    "    # add var\n",
    "    \n",
    "    \n",
    "    # add constraint and set objective\n",
    "#     add_CnO_simple_IP_model_01(created_model, add_var(created_model))\n",
    "    model_CnO(model=created_model, x_dict=model_var(created_model))\n",
    "    \n",
    "    created_model.optimize()\n",
    "    save_ModelnSolution(created_model)\n",
    "    return created_model\n",
    "   \n",
    "def add_var(model):\n",
    "    var_index = [\n",
    "    f'x_{i}'\n",
    "    for i in range(1, 3)\n",
    "    ]\n",
    "    x_dict = model.addVars(var_index, vtype=grb.GRB.INTEGER, name= var_index)\n",
    "    return x_dict\n",
    "        \n",
    "def add_CnO_simple_IP_model_01(model, x_dict):    \n",
    "    model.addConstr(2 * x_dict['x_1'] + x_dict['x_2'] <=10, name= 'c1')\n",
    "    model.addConstr(3 * x_dict['x_1'] + 6 * x_dict['x_2'] <=40, name='c2')\n",
    "    model.setObjective(100 * x_dict['x_1'] + 150 * x_dict['x_2'], grb.GRB.MAXIMIZE)\n",
    "\n",
    "def save_ModelnSolution(model, path=r'.\\test_model'):\n",
    "    model.write(os.path.join(path, model.ModelName+'.lp'))\n",
    "    model.write(os.path.join(path, model.ModelName+'.sol'))\n"
   ]
  },
  {
   "cell_type": "code",
   "execution_count": 82,
   "id": "80e65dbe",
   "metadata": {},
   "outputs": [
    {
     "name": "stdout",
     "output_type": "stream",
     "text": [
      "Gurobi Optimizer version 11.0.1 build v11.0.1rc0 (win64 - Windows 11.0 (22000.2))\n",
      "\n",
      "CPU model: Intel(R) Core(TM) i5-10210U CPU @ 1.60GHz, instruction set [SSE2|AVX|AVX2]\n",
      "Thread count: 4 physical cores, 8 logical processors, using up to 8 threads\n",
      "\n",
      "Optimize a model with 2 rows, 2 columns and 4 nonzeros\n",
      "Model fingerprint: 0x60e99bf1\n",
      "Variable types: 0 continuous, 2 integer (0 binary)\n",
      "Coefficient statistics:\n",
      "  Matrix range     [1e+00, 6e+00]\n",
      "  Objective range  [1e+02, 2e+02]\n",
      "  Bounds range     [0e+00, 0e+00]\n",
      "  RHS range        [1e+01, 4e+01]\n",
      "Found heuristic solution: objective 500.0000000\n",
      "Presolve time: 0.00s\n",
      "Presolved: 2 rows, 2 columns, 4 nonzeros\n",
      "Variable types: 0 continuous, 2 integer (0 binary)\n",
      "Found heuristic solution: objective 550.0000000\n",
      "\n",
      "Root relaxation: objective 1.033333e+03, 2 iterations, 0.00 seconds (0.00 work units)\n",
      "\n",
      "    Nodes    |    Current Node    |     Objective Bounds      |     Work\n",
      " Expl Unexpl |  Obj  Depth IntInf | Incumbent    BestBd   Gap | It/Node Time\n",
      "\n",
      "     0     0 1033.33333    0    2  550.00000 1033.33333  87.9%     -    0s\n",
      "H    0     0                    1000.0000000 1033.33333  3.33%     -    0s\n",
      "     0     0 1033.33333    0    2 1000.00000 1033.33333  3.33%     -    0s\n",
      "\n",
      "Explored 1 nodes (2 simplex iterations) in 0.03 seconds (0.00 work units)\n",
      "Thread count was 8 (of 8 available processors)\n",
      "\n",
      "Solution count 3: 1000 550 500 \n",
      "\n",
      "Optimal solution found (tolerance 1.00e-04)\n",
      "Best objective 1.000000000000e+03, best bound 1.000000000000e+03, gap 0.0000%\n"
     ]
    }
   ],
   "source": [
    "test = create_model(model_name='SimpleIPModel_01')"
   ]
  },
  {
   "cell_type": "code",
   "execution_count": 75,
   "id": "bfad0cb6",
   "metadata": {},
   "outputs": [
    {
     "ename": "SyntaxError",
     "evalue": "f-string expression part cannot include a backslash (357301512.py, line 1)",
     "output_type": "error",
     "traceback": [
      "\u001b[1;36m  File \u001b[1;32m\"C:\\Users\\bb52n\\AppData\\Local\\Temp\\ipykernel_21856\\357301512.py\"\u001b[1;36m, line \u001b[1;32m1\u001b[0m\n\u001b[1;33m    f\"{r'.\\test_model}\\\\{model.ModelName}.lp\"\u001b[0m\n\u001b[1;37m                                             ^\u001b[0m\n\u001b[1;31mSyntaxError\u001b[0m\u001b[1;31m:\u001b[0m f-string expression part cannot include a backslash\n"
     ]
    }
   ],
   "source": [
    "f\"{r'.\\test_model}\\\\{model.ModelName}.lp\""
   ]
  },
  {
   "cell_type": "code",
   "execution_count": 69,
   "id": "8eb6cab7",
   "metadata": {},
   "outputs": [],
   "source": [
    "RLP = grb.Model('Relaxed MIP')\n",
    "\n",
    "var_index = [\n",
    "    f'x_{i}'\n",
    "    for i in range(1, 3)\n",
    "]\n",
    "x_dict = RLP.addVars(var_index, vtype=grb.GRB.CONTINUOUS, name= var_index)\n",
    "RLP.addConstr(2 * x_dict['x_1'] + x_dict['x_2'] <=10, name= 'c1')\n",
    "RLP.addConstr(3 * x_dict['x_1'] + 6 * x_dict['x_2'] <=40, name='c2')\n",
    "RLP.setObjective(100 * x_dict['x_1'] + 150 * x_dict['x_2'], grb.GRB.MAXIMIZE)\n",
    "# RLP.optimize()"
   ]
  },
  {
   "cell_type": "code",
   "execution_count": 71,
   "id": "d25e9d85",
   "metadata": {},
   "outputs": [
    {
     "data": {
      "text/plain": [
       "<gurobi.Model Continuous instance Relaxed MIP: 0 constrs, 0 vars, Parameter changes: Username=(user-defined)>"
      ]
     },
     "execution_count": 71,
     "metadata": {},
     "output_type": "execute_result"
    }
   ],
   "source": []
  },
  {
   "cell_type": "code",
   "execution_count": 49,
   "id": "352eb4b0",
   "metadata": {},
   "outputs": [],
   "source": [
    "RLP.write(r'.\\test_model\\simple_IP_model_01.lp')\n",
    "RLP.write(r'.\\test_model\\simple_IP_model_01_solution.sol')"
   ]
  },
  {
   "cell_type": "code",
   "execution_count": 52,
   "id": "2df2d2b1",
   "metadata": {},
   "outputs": [
    {
     "data": {
      "text/plain": [
       "'Relaxed MIP'"
      ]
     },
     "execution_count": 52,
     "metadata": {},
     "output_type": "execute_result"
    }
   ],
   "source": [
    "RLP.ModelName"
   ]
  },
  {
   "cell_type": "code",
   "execution_count": 37,
   "id": "93e9e823",
   "metadata": {},
   "outputs": [
    {
     "name": "stdout",
     "output_type": "stream",
     "text": [
      "Read LP format model from file model.lp\n",
      "Reading time = 0.01 seconds\n",
      ": 2 rows, 2 columns, 4 nonzeros\n"
     ]
    }
   ],
   "source": [
    "temp = grb.read('model.lp')"
   ]
  },
  {
   "cell_type": "code",
   "execution_count": 41,
   "id": "e3016d02",
   "metadata": {},
   "outputs": [
    {
     "data": {
      "text/plain": [
       "'C'"
      ]
     },
     "execution_count": 41,
     "metadata": {},
     "output_type": "execute_result"
    }
   ],
   "source": [
    "temp.getVars()[0].Vtype"
   ]
  },
  {
   "cell_type": "code",
   "execution_count": 11,
   "id": "36ed6705",
   "metadata": {},
   "outputs": [],
   "source": [
    "coped_rlp=RLP.copy()"
   ]
  },
  {
   "cell_type": "code",
   "execution_count": 15,
   "id": "28e882ff",
   "metadata": {},
   "outputs": [
    {
     "data": {
      "text/plain": [
       "'C'"
      ]
     },
     "execution_count": 15,
     "metadata": {},
     "output_type": "execute_result"
    }
   ],
   "source": [
    "coped_rlp.getVars()[0].Vtype"
   ]
  },
  {
   "cell_type": "code",
   "execution_count": 47,
   "id": "888467cb",
   "metadata": {},
   "outputs": [
    {
     "data": {
      "text/plain": [
       "1"
      ]
     },
     "execution_count": 47,
     "metadata": {},
     "output_type": "execute_result"
    }
   ],
   "source": [
    "RLP.setObjective(100 * x_dict['x_1'] + 150 * x_dict['x_2'], grb.GRB.MAXIMIZE)\n",
    "RLP.Status"
   ]
  },
  {
   "cell_type": "code",
   "execution_count": 48,
   "id": "10942a28",
   "metadata": {},
   "outputs": [
    {
     "name": "stdout",
     "output_type": "stream",
     "text": [
      "Gurobi Optimizer version 11.0.1 build v11.0.1rc0 (win64 - Windows 11.0 (22000.2))\n",
      "\n",
      "CPU model: Intel(R) Core(TM) i5-10210U CPU @ 1.60GHz, instruction set [SSE2|AVX|AVX2]\n",
      "Thread count: 4 physical cores, 8 logical processors, using up to 8 threads\n",
      "\n",
      "Optimize a model with 2 rows, 2 columns and 4 nonzeros\n",
      "Model fingerprint: 0x60e6e1b1\n",
      "Coefficient statistics:\n",
      "  Matrix range     [1e+00, 6e+00]\n",
      "  Objective range  [1e+02, 2e+02]\n",
      "  Bounds range     [0e+00, 0e+00]\n",
      "  RHS range        [1e+01, 4e+01]\n",
      "Presolve time: 0.01s\n",
      "Presolved: 2 rows, 2 columns, 4 nonzeros\n",
      "\n",
      "Iteration    Objective       Primal Inf.    Dual Inf.      Time\n",
      "       0    2.5000000e+32   2.625000e+30   2.500000e+02      0s\n",
      "       2    1.0555556e+03   0.000000e+00   0.000000e+00      0s\n",
      "\n",
      "Solved in 2 iterations and 0.01 seconds (0.00 work units)\n",
      "Optimal objective  1.055555556e+03\n"
     ]
    }
   ],
   "source": [
    "RLP.optimize()"
   ]
  },
  {
   "cell_type": "code",
   "execution_count": 52,
   "id": "7383dc04",
   "metadata": {},
   "outputs": [
    {
     "ename": "AttributeError",
     "evalue": "'gurobipy.Var' object has no attribute 'vtype'",
     "output_type": "error",
     "traceback": [
      "\u001b[1;31m---------------------------------------------------------------------------\u001b[0m",
      "\u001b[1;31mAttributeError\u001b[0m                            Traceback (most recent call last)",
      "\u001b[1;32m~\\AppData\\Local\\Temp\\ipykernel_29580\\2049451585.py\u001b[0m in \u001b[0;36m<module>\u001b[1;34m\u001b[0m\n\u001b[1;32m----> 1\u001b[1;33m \u001b[0mRLP\u001b[0m\u001b[1;33m.\u001b[0m\u001b[0mcopy\u001b[0m\u001b[1;33m(\u001b[0m\u001b[1;33m)\u001b[0m\u001b[1;33m.\u001b[0m\u001b[0mgetVars\u001b[0m\u001b[1;33m(\u001b[0m\u001b[1;33m)\u001b[0m\u001b[1;33m[\u001b[0m\u001b[1;36m0\u001b[0m\u001b[1;33m]\u001b[0m\u001b[1;33m.\u001b[0m\u001b[0mvtype\u001b[0m\u001b[1;33m\u001b[0m\u001b[1;33m\u001b[0m\u001b[0m\n\u001b[0m",
      "\u001b[1;32msrc\\\\gurobipy\\\\var.pxi\u001b[0m in \u001b[0;36mgurobipy.Var.__getattr__\u001b[1;34m()\u001b[0m\n",
      "\u001b[1;32msrc\\\\gurobipy\\\\var.pxi\u001b[0m in \u001b[0;36mgurobipy.Var.getAttr\u001b[1;34m()\u001b[0m\n",
      "\u001b[1;32msrc\\\\gurobipy\\\\attrutil.pxi\u001b[0m in \u001b[0;36mgurobipy._getattr\u001b[1;34m()\u001b[0m\n",
      "\u001b[1;32msrc\\\\gurobipy\\\\attrutil.pxi\u001b[0m in \u001b[0;36mgurobipy._getattrinfo\u001b[1;34m()\u001b[0m\n",
      "\u001b[1;31mAttributeError\u001b[0m: 'gurobipy.Var' object has no attribute 'vtype'"
     ]
    }
   ],
   "source": [
    "RLP.copy().getVars()[0].vtype"
   ]
  },
  {
   "cell_type": "code",
   "execution_count": 45,
   "id": "9a744bff",
   "metadata": {},
   "outputs": [],
   "source": [
    "eps = 1e-3\n",
    "class Global_BB:\n",
    "    def __init__(self, model):\n",
    "        self.gub = np.inf\n",
    "        self.glb = 0\n",
    "        self.node_pool = []\n",
    "        \n",
    "        self.incumbent_solution = None\n",
    "        self.best_objective = 0\n",
    "        \n",
    "        self.MIP_var_vtype_dict = {var.varName: var.vtype for var in model.getVars()}\n",
    "#         {var_name: 'I' for var_name in [f'x_{i}' for i in range(1, 3)]}\n",
    "#         {var.varName: var.vtype for var in model.getVars()}\n",
    "        \n",
    "        self.model_relaxation = model.copy() \n",
    "        for var in self.model_relaxation.getVars():\n",
    "            var.vtype = grb.GRB.CONTINUOUS\n",
    "        self.model_relaxation.update()        \n",
    "        self.root_node = Node(self.model_relaxation, self.MIP_var_vtype_dict, '0')\n",
    "        \n",
    "        print('root node begin optimizing')\n",
    "        self.root_node.optimize_lpr(self.glb)\n",
    "        print('root optimization finished')\n",
    "        self.incumbent_solution = self.root_node.x_int_solution\n",
    "        self.best_objective = self.root_node.node_LB\n",
    "        self.gub = self.root_node.node_UB\n",
    "        self.glb = self.root_node.node_LB\n",
    "        print(f\"x_sol:\\t{self.root_node.x_solution}\\nincumbent_solution:\\t{self.incumbent_solution}\\nbest_objective:\\t{self.best_objective}\\nGlobal_UB:\\t{self.gub}\\nGlobal_LB:\\t{self.glb}\")\n",
    "        \n",
    "        if self.root_node.is_pruned == 0:\n",
    "            self.node_pool.append(self.root_node)\n",
    "            self.gub_log = [self.gub]\n",
    "            self.glb_log = [self.glb]\n",
    "            print('root node is not punred')\n",
    "    \n",
    "    def BandB(self):\n",
    "#         if len(self.node_pool) == 0:\n",
    "#             return \n",
    "#         node_id = 1\n",
    "        while len(self.node_pool)>0 and self.gub - self.glb > eps:\n",
    "            current_node = self.node_pool.pop(self.estimate_node())\n",
    "            print(f\"node: {current_node.node_id} is selected to branch\")\n",
    "            temp = current_node.branch(self)\n",
    "            printChildNode_info(current_node)\n",
    "            self.node_pool += temp\n",
    "            if len(temp) > 0:\n",
    "                self.gub = max([node.node_UB for node in self.node_pool])\n",
    "            self.glb_log.append(self.glb)\n",
    "            self.gub_log.append(self.gub)\n",
    "            # 更新 全局上下界\n",
    "            \n",
    "    \n",
    "    def estimate_node(self):\n",
    "#         if len(self.node_pool) == 0:\n",
    "#             return 1 # no unbranched or pruned node \n",
    "        \n",
    "        # choose the node with greatest node_UB\n",
    "        best_i = max([\n",
    "            (i, self.node_pool[i].node_UB)\n",
    "            for i in range(len(self.node_pool))\n",
    "        ], key=lambda x: x[-1])[0]\n",
    "        \n",
    "        return best_i\n",
    "    \n",
    "\n",
    "class Node:\n",
    "    def __init__(self, model, MIP_var_vtype_dict, node_id):\n",
    "        self.node_id = node_id\n",
    "        self.node_LB = 0\n",
    "        self.node_UB = np.inf\n",
    "        \n",
    "        self.x_solution = None\n",
    "        self.x_int_solution = None\n",
    "        \n",
    "        self.MIP_var_vtype_dict = MIP_var_vtype_dict # no relaxation model's var's vtype C for CONTINUOUS; B for BINARY I for INTEGER\n",
    "        self.branch_var_dict = None\n",
    "        \n",
    "        self.model = model\n",
    "        self.model_status = False\n",
    "        \n",
    "        self.is_integer = None\n",
    "        self.is_pruned = 0 # pruned 1: by integer solution; 2: by bounded 3: by infeasible or unbound\n",
    "        \n",
    "        self.branched = False\n",
    "        \n",
    "#         self.optimize_lpr()\n",
    "\n",
    "    \n",
    "    def optimize_lpr(self, glb):\n",
    "        self.model.setParam('OutputFlag', 0)\n",
    "        self.model.update()\n",
    "        \n",
    "        # optimize the node model and intialize the node param\n",
    "        self.model.optimize()\n",
    "        \"\"\"\n",
    "        OPTIMAL = 2\n",
    "        INFEASIBLE = 3\n",
    "        UNBOUNDED = 5\n",
    "        \"\"\"\n",
    "        self.model_status = self.model.Status\n",
    "        \n",
    "        if self.model_status == 2: # have optimal solution\n",
    "            self.node_UB = self.model.ObjVal\n",
    "            \n",
    "            self.x_solution = {var.varName: var.x for var in self.model.getVars()}\n",
    "            self.x_int_solution = {var.varName: int(var.x) if self.MIP_var_vtype_dict[var.varName] in ['B', 'I'] else var.x\n",
    "                                   for var in self.model.getVars()}\n",
    "#             print(f\"x_solution: {self.x_solution}\")\n",
    "#             print(f\"x_int_solution: {self.x_int_solution}\")\n",
    "            \n",
    "            self.node_LB = sum([\n",
    "                self.x_int_solution[var.varName] * var.Obj\n",
    "                for var in self.model.getVars()\n",
    "            ])\n",
    "            \n",
    "            \n",
    "            self.branch_var_dict = {\n",
    "                var.varName: 1 if (self.MIP_var_vtype_dict[var.varName] in ['B', 'I']\n",
    "                and abs(self.x_solution[var.varName] - self.x_int_solution[var.varName])>eps) # 1: if a binary or integer var is no integer value; Need to branch\n",
    "                else 0 # 0: ① if a binary or integer var is integer value; ② continuous var. No Need to branch\n",
    "                for var in self.model.getVars()\n",
    "                }\n",
    "            self.is_integer = 0 if 1 in self.branch_var_dict.values() else 1 # if 1 in branch_var_dict means it still have binary or integer var that is no integer value\n",
    "            self.PruneByOptimility()\n",
    "            self.PruneByBounded(glb)\n",
    "#             self.PruneByOptimility()\n",
    "#             self.PruneByBounded()\n",
    "            \n",
    "        else: # INFEASIBLE or UNBOUNDED      \n",
    "            self.PrunedByUnfeasibleOrUnbound()\n",
    "    \n",
    "    def branch(self, global_BB):\n",
    "        \n",
    "        branch_var_list = list(filter(lambda x: self.branch_var_dict[x]==1, self.branch_var_dict))\n",
    "        # most infeasible branching, 选择小数部分最接近0.5的进行分支\n",
    "        self.branch_var_name = min(\n",
    "                [(var_name, abs(self.x_solution[var_name] - self.x_int_solution[var_name])) \n",
    "                 for var_name in branch_var_list], key=lambda x : abs(x[-1]-0.5)\n",
    "        )[0]\n",
    "        \n",
    "        # ①BINARY 0, 1. xr=0.xxx  left var BOUND = 0, right_var BOUND =1\n",
    "        # ②CONTINOUS. xr=A.BBB  left var BOUND= A right var bound = A+1\n",
    "        \n",
    "        print(f'branch_var_name:{self.branch_var_name}')\n",
    "        left_var_bound = int(self.x_solution[self.branch_var_name])\n",
    "        right_var_bound = left_var_bound+1\n",
    "        \n",
    "        # create two child nodes\n",
    "        self.left_node, self.right_node = self.deepcopy_node(node_id=self.node_id+'->l'), self.deepcopy_node(node_id=self.node_id+'->r')\n",
    "#         self.left_node.node_id += '->l'\n",
    "#         self.right_node.node_id += '->r'\n",
    "        \n",
    "        # add constraint for left\n",
    "        branch_var = self.left_node.model.getVarByName(self.branch_var_name)\n",
    "        self.left_node.model.addConstr(branch_var <= left_var_bound, name='branch_left')\n",
    "        self.left_node.optimize_lpr(global_BB.glb)\n",
    "        check_update(global_BB, self.left_node)\n",
    "    \n",
    "        \n",
    "        # add constraint for right\n",
    "        branch_var = self.right_node.model.getVarByName(self.branch_var_name)\n",
    "        self.right_node.model.addConstr(branch_var >= right_var_bound, name='branch_right')\n",
    "        self.right_node.optimize_lpr(global_BB.glb)\n",
    "        check_update(global_BB, self.right_node)\n",
    "\n",
    "        \n",
    "        temp = []\n",
    "        if self.left_node.is_pruned == 0:\n",
    "            temp.append(self.left_node)\n",
    "        if self.right_node.is_pruned == 0:\n",
    "            temp.append(self.right_node)\n",
    "        return temp\n",
    "          \n",
    "    \n",
    "    def PruneByOptimility(self):\n",
    "        if self.is_integer == 1:\n",
    "#             print('Pruned by optimility')\n",
    "            self.is_pruned = 1\n",
    "            \n",
    "    def PruneByBounded(self, global_lb):\n",
    "        if self.node_UB < global_lb:\n",
    "#             print('Pruned by bound')\n",
    "            self.is_pruned = 2\n",
    "    \n",
    "    def PrunedByUnfeasibleOrUnbound(self):\n",
    "#         print('Pruned by unfeasible or unbound')\n",
    "        self.is_pruned = 3\n",
    "    \n",
    "    def deepcopy_node(self, node_id):\n",
    "        new_node = Node(self.model.copy(), self.MIP_var_vtype_dict, node_id)\n",
    "        return new_node\n",
    "\n",
    "def check_update(global_, local):\n",
    "\n",
    "    if local.is_pruned != 0: # if node is pruned, pass\n",
    "        return\n",
    "    if local.node_LB > global_.glb:\n",
    "        global_.glb = local.node_LB\n",
    "        global_.incumbent_solution = local.x_int_solution\n",
    "        global_.best_objective = local.node_LB\n",
    "#         return 1\n",
    "\n",
    "def printChildNode_info(parent):\n",
    "    is_pruned_dict = {1: 'Pruned by optimility', 2: 'Pruned by bound', 3: 'Pruned by unfeasible or unbound'}\n",
    "    print(f\"node: {parent.node_id} \\'child node info:\")\n",
    "    if parent.left_node.is_pruned != 0:\n",
    "        print(f\"left_node: {parent.left_node.node_id} is {is_pruned_dict[parent.left_node.is_pruned]}\")\n",
    "    print(f\"left_node {parent.left_node.node_id} info:\")\n",
    "    printNodeInfo(parent.left_node)\n",
    "    \n",
    "    if parent.right_node.is_pruned != 0:\n",
    "        print(f\"right_node: {parent.right_node.node_id} is {is_pruned_dict[parent.right_node.is_pruned]}\")\n",
    "    print(f\"right_node {parent.right_node.node_id} info:\")\n",
    "    printNodeInfo(parent.right_node)\n",
    "\n",
    "def printNodeInfo(node):\n",
    "    print(f\"x_sol:\\t{node.x_solution}\")\n",
    "    print(f\"x_int_sol:\\t{node.x_int_solution}\")\n",
    "    print(f\"UB:\\t{node.node_UB}\")\n",
    "    print(f\"LB:\\t{node.node_LB}\")\n",
    "    "
   ]
  },
  {
   "cell_type": "code",
   "execution_count": 46,
   "id": "70ed7a8d",
   "metadata": {},
   "outputs": [
    {
     "name": "stdout",
     "output_type": "stream",
     "text": [
      "Read LP format model from file .\\test_model\\SimpleIPModel_01.lp\n",
      "Reading time = 0.00 seconds\n",
      ": 2 rows, 2 columns, 4 nonzeros\n"
     ]
    }
   ],
   "source": [
    "m = grb.read(r'.\\test_model\\SimpleIPModel_01.lp')"
   ]
  },
  {
   "cell_type": "code",
   "execution_count": 49,
   "id": "c506d3ff",
   "metadata": {},
   "outputs": [
    {
     "name": "stdout",
     "output_type": "stream",
     "text": [
      "Gurobi Optimizer version 11.0.1 build v11.0.1rc0 (win64 - Windows 11.0 (22000.2))\n",
      "\n",
      "CPU model: Intel(R) Core(TM) i5-10210U CPU @ 1.60GHz, instruction set [SSE2|AVX|AVX2]\n",
      "Thread count: 4 physical cores, 8 logical processors, using up to 8 threads\n",
      "\n",
      "Optimize a model with 2 rows, 2 columns and 4 nonzeros\n",
      "Model fingerprint: 0x60e99bf1\n",
      "Variable types: 0 continuous, 2 integer (0 binary)\n",
      "Coefficient statistics:\n",
      "  Matrix range     [1e+00, 6e+00]\n",
      "  Objective range  [1e+02, 2e+02]\n",
      "  Bounds range     [0e+00, 0e+00]\n",
      "  RHS range        [1e+01, 4e+01]\n",
      "Found heuristic solution: objective 500.0000000\n",
      "Presolve time: 0.01s\n",
      "Presolved: 2 rows, 2 columns, 4 nonzeros\n",
      "Variable types: 0 continuous, 2 integer (0 binary)\n",
      "Found heuristic solution: objective 550.0000000\n",
      "\n",
      "Root relaxation: objective 1.033333e+03, 2 iterations, 0.00 seconds (0.00 work units)\n",
      "\n",
      "    Nodes    |    Current Node    |     Objective Bounds      |     Work\n",
      " Expl Unexpl |  Obj  Depth IntInf | Incumbent    BestBd   Gap | It/Node Time\n",
      "\n",
      "     0     0 1033.33333    0    2  550.00000 1033.33333  87.9%     -    0s\n",
      "H    0     0                    1000.0000000 1033.33333  3.33%     -    0s\n",
      "     0     0 1033.33333    0    2 1000.00000 1033.33333  3.33%     -    0s\n",
      "\n",
      "Explored 1 nodes (2 simplex iterations) in 0.08 seconds (0.00 work units)\n",
      "Thread count was 8 (of 8 available processors)\n",
      "\n",
      "Solution count 3: 1000 550 500 \n",
      "\n",
      "Optimal solution found (tolerance 1.00e-04)\n",
      "Best objective 1.000000000000e+03, best bound 1.000000000000e+03, gap 0.0000%\n"
     ]
    }
   ],
   "source": [
    "m.optimize()"
   ]
  },
  {
   "cell_type": "code",
   "execution_count": 47,
   "id": "476e8875",
   "metadata": {},
   "outputs": [
    {
     "name": "stdout",
     "output_type": "stream",
     "text": [
      "root node begin optimizing\n",
      "root optimization finished\n",
      "x_sol:\t{'x_1': 2.2222222222222223, 'x_2': 5.555555555555555}\n",
      "incumbent_solution:\t{'x_1': 2, 'x_2': 5}\n",
      "best_objective:\t950.0\n",
      "Global_UB:\t1055.5555555555554\n",
      "Global_LB:\t950.0\n",
      "root node is not punred\n"
     ]
    }
   ],
   "source": [
    "test = Global_BB(model=m)"
   ]
  },
  {
   "cell_type": "code",
   "execution_count": 48,
   "id": "09a8b634",
   "metadata": {},
   "outputs": [
    {
     "name": "stdout",
     "output_type": "stream",
     "text": [
      "node: 0 is selected to branch\n",
      "branch_var_name:x_2\n",
      "node: 0 'child node info:\n",
      "left_node 0->l info:\n",
      "x_sol:\t{'x_1': 2.5, 'x_2': 5.0}\n",
      "x_int_sol:\t{'x_1': 2, 'x_2': 5}\n",
      "UB:\t1000.0\n",
      "LB:\t950.0\n",
      "right_node 0->r info:\n",
      "x_sol:\t{'x_1': 1.3333333333333333, 'x_2': 6.0}\n",
      "x_int_sol:\t{'x_1': 1, 'x_2': 6}\n",
      "UB:\t1033.3333333333333\n",
      "LB:\t1000.0\n",
      "node: 0->r is selected to branch\n",
      "branch_var_name:x_1\n",
      "node: 0->r 'child node info:\n",
      "left_node 0->r->l info:\n",
      "x_sol:\t{'x_1': 1.0, 'x_2': 6.166666666666667}\n",
      "x_int_sol:\t{'x_1': 1, 'x_2': 6}\n",
      "UB:\t1025.0\n",
      "LB:\t1000.0\n",
      "right_node: 0->r->r is Pruned by unfeasible or unbound\n",
      "right_node 0->r->r info:\n",
      "x_sol:\tNone\n",
      "x_int_sol:\tNone\n",
      "UB:\tinf\n",
      "LB:\t0\n",
      "node: 0->r->l is selected to branch\n",
      "branch_var_name:x_2\n",
      "node: 0->r->l 'child node info:\n",
      "left_node: 0->r->l->l is Pruned by optimility\n",
      "left_node 0->r->l->l info:\n",
      "x_sol:\t{'x_1': 1.0, 'x_2': 6.0}\n",
      "x_int_sol:\t{'x_1': 1, 'x_2': 6}\n",
      "UB:\t1000.0\n",
      "LB:\t1000.0\n",
      "right_node: 0->r->l->r is Pruned by unfeasible or unbound\n",
      "right_node 0->r->l->r info:\n",
      "x_sol:\tNone\n",
      "x_int_sol:\tNone\n",
      "UB:\tinf\n",
      "LB:\t0\n",
      "node: 0->l is selected to branch\n",
      "branch_var_name:x_1\n",
      "node: 0->l 'child node info:\n",
      "left_node: 0->l->l is Pruned by bound\n",
      "left_node 0->l->l info:\n",
      "x_sol:\t{'x_1': 2.0, 'x_2': 5.0}\n",
      "x_int_sol:\t{'x_1': 2, 'x_2': 5}\n",
      "UB:\t950.0\n",
      "LB:\t950.0\n",
      "right_node: 0->l->r is Pruned by bound\n",
      "right_node 0->l->r info:\n",
      "x_sol:\t{'x_1': 3.0, 'x_2': 4.0}\n",
      "x_int_sol:\t{'x_1': 3, 'x_2': 4}\n",
      "UB:\t900.0\n",
      "LB:\t900.0\n"
     ]
    }
   ],
   "source": [
    "test.BandB()"
   ]
  },
  {
   "cell_type": "code",
   "execution_count": 16,
   "id": "16611600",
   "metadata": {},
   "outputs": [
    {
     "data": {
      "text/plain": [
       "{'x_1': 1, 'x_2': 6}"
      ]
     },
     "execution_count": 16,
     "metadata": {},
     "output_type": "execute_result"
    }
   ],
   "source": [
    "test.incumbent_solution"
   ]
  },
  {
   "cell_type": "code",
   "execution_count": 12,
   "id": "d7f9dec2",
   "metadata": {},
   "outputs": [
    {
     "data": {
      "text/plain": [
       "'C'"
      ]
     },
     "execution_count": 12,
     "metadata": {},
     "output_type": "execute_result"
    }
   ],
   "source": [
    "grb.GRB.CONTINUOUS"
   ]
  },
  {
   "cell_type": "code",
   "execution_count": 114,
   "id": "e52824ab",
   "metadata": {},
   "outputs": [
    {
     "name": "stdout",
     "output_type": "stream",
     "text": [
      "Gurobi Optimizer version 11.0.1 build v11.0.1rc0 (win64 - Windows 11.0 (22000.2))\n",
      "\n",
      "CPU model: Intel(R) Core(TM) i5-10210U CPU @ 1.60GHz, instruction set [SSE2|AVX|AVX2]\n",
      "Thread count: 4 physical cores, 8 logical processors, using up to 8 threads\n",
      "\n",
      "Optimize a model with 2 rows, 2 columns and 4 nonzeros\n",
      "Model fingerprint: 0x60e99bf1\n",
      "Variable types: 0 continuous, 2 integer (0 binary)\n",
      "Coefficient statistics:\n",
      "  Matrix range     [1e+00, 6e+00]\n",
      "  Objective range  [1e+02, 2e+02]\n",
      "  Bounds range     [0e+00, 0e+00]\n",
      "  RHS range        [1e+01, 4e+01]\n",
      "Found heuristic solution: objective 500.0000000\n",
      "Presolve time: 0.00s\n",
      "Presolved: 2 rows, 2 columns, 4 nonzeros\n",
      "Variable types: 0 continuous, 2 integer (0 binary)\n",
      "Found heuristic solution: objective 550.0000000\n",
      "\n",
      "Root relaxation: objective 1.033333e+03, 2 iterations, 0.00 seconds (0.00 work units)\n",
      "\n",
      "    Nodes    |    Current Node    |     Objective Bounds      |     Work\n",
      " Expl Unexpl |  Obj  Depth IntInf | Incumbent    BestBd   Gap | It/Node Time\n",
      "\n",
      "     0     0 1033.33333    0    2  550.00000 1033.33333  87.9%     -    0s\n",
      "H    0     0                    1000.0000000 1033.33333  3.33%     -    0s\n",
      "     0     0 1033.33333    0    2 1000.00000 1033.33333  3.33%     -    0s\n",
      "\n",
      "Explored 1 nodes (2 simplex iterations) in 0.02 seconds (0.00 work units)\n",
      "Thread count was 8 (of 8 available processors)\n",
      "\n",
      "Solution count 3: 1000 550 500 \n",
      "\n",
      "Optimal solution found (tolerance 1.00e-04)\n",
      "Best objective 1.000000000000e+03, best bound 1.000000000000e+03, gap 0.0000%\n"
     ]
    },
    {
     "data": {
      "text/plain": [
       "[<gurobi.Var x_1 (value 1.0)>, <gurobi.Var x_2 (value 6.0)>]"
      ]
     },
     "execution_count": 114,
     "metadata": {},
     "output_type": "execute_result"
    }
   ],
   "source": [
    "IP = grb.Model('IP')\n",
    "var_index = [\n",
    "    f'x_{i}'\n",
    "    for i in range(1, 3)\n",
    "]\n",
    "x_dict = IP.addVars(var_index, vtype=grb.GRB.INTEGER, name= var_index)\n",
    "IP.addConstr(2 * x_dict['x_1'] + x_dict['x_2'] <=10, name= 'c1')\n",
    "IP.addConstr(3 * x_dict['x_1'] + 6 * x_dict['x_2'] <=40, name='c2')\n",
    "IP.setObjective(100 * x_dict['x_1'] + 150 * x_dict['x_2'], grb.GRB.MAXIMIZE)\n",
    "IP.optimize()\n",
    "IP.getVars()"
   ]
  },
  {
   "cell_type": "code",
   "execution_count": 80,
   "id": "536bf0c0",
   "metadata": {},
   "outputs": [
    {
     "name": "stdout",
     "output_type": "stream",
     "text": [
      "Gurobi Optimizer version 11.0.1 build v11.0.1rc0 (win64 - Windows 11.0 (22000.2))\n",
      "\n",
      "CPU model: Intel(R) Core(TM) i5-10210U CPU @ 1.60GHz, instruction set [SSE2|AVX|AVX2]\n",
      "Thread count: 4 physical cores, 8 logical processors, using up to 8 threads\n",
      "\n",
      "Optimize a model with 2 rows, 2 columns and 4 nonzeros\n",
      "Model fingerprint: 0x60e6e1b1\n",
      "Coefficient statistics:\n",
      "  Matrix range     [1e+00, 6e+00]\n",
      "  Objective range  [1e+02, 2e+02]\n",
      "  Bounds range     [0e+00, 0e+00]\n",
      "  RHS range        [1e+01, 4e+01]\n",
      "Presolve time: 0.01s\n",
      "Presolved: 2 rows, 2 columns, 4 nonzeros\n",
      "\n",
      "Iteration    Objective       Primal Inf.    Dual Inf.      Time\n",
      "       0    2.5000000e+32   2.625000e+30   2.500000e+02      0s\n",
      "       2    1.0555556e+03   0.000000e+00   0.000000e+00      0s\n",
      "\n",
      "Solved in 2 iterations and 0.01 seconds (0.00 work units)\n",
      "Optimal objective  1.055555556e+03\n"
     ]
    },
    {
     "data": {
      "text/plain": [
       "[<gurobi.Var x_1 (value 2.2222222222222223)>,\n",
       " <gurobi.Var x_2 (value 5.555555555555555)>]"
      ]
     },
     "execution_count": 80,
     "metadata": {},
     "output_type": "execute_result"
    }
   ],
   "source": [
    "IPr = grb.Model('IP')\n",
    "var_index = [\n",
    "    f'x_{i}'\n",
    "    for i in range(1, 3)\n",
    "]\n",
    "x_dict = IPr.addVars(var_index, vtype=grb.GRB.CONTINUOUS, name= var_index)\n",
    "IPr.addConstr(2 * x_dict['x_1'] + x_dict['x_2'] <=10, name= 'c1')\n",
    "IPr.addConstr(3 * x_dict['x_1'] + 6 * x_dict['x_2'] <=40, name='c2')\n",
    "IPr.setObjective(100 * x_dict['x_1'] + 150 * x_dict['x_2'], grb.GRB.MAXIMIZE)\n",
    "IPr.optimize()\n",
    "IPr.getVars()"
   ]
  },
  {
   "cell_type": "code",
   "execution_count": 141,
   "id": "ddd08407",
   "metadata": {},
   "outputs": [
    {
     "name": "stdout",
     "output_type": "stream",
     "text": [
      "root node\n",
      "x_solution: {'x_1': 2.2222222222222223, 'x_2': 5.555555555555555}\n",
      "x_int_solution: {'x_1': 2, 'x_2': 5}\n"
     ]
    }
   ],
   "source": [
    "test = Global_BB(model=IPr)"
   ]
  },
  {
   "cell_type": "code",
   "execution_count": 130,
   "id": "aeec4093",
   "metadata": {},
   "outputs": [
    {
     "data": {
      "text/plain": [
       "{'x_1': 1, 'x_2': 1}"
      ]
     },
     "execution_count": 130,
     "metadata": {},
     "output_type": "execute_result"
    }
   ],
   "source": [
    "test.root_node.branch_var_dict"
   ]
  },
  {
   "cell_type": "code",
   "execution_count": 131,
   "id": "0ceaaea6",
   "metadata": {},
   "outputs": [
    {
     "data": {
      "text/plain": [
       "{'x_1': 2.2222222222222223, 'x_2': 5.555555555555555}"
      ]
     },
     "execution_count": 131,
     "metadata": {},
     "output_type": "execute_result"
    }
   ],
   "source": [
    "test.root_node.x_solution"
   ]
  },
  {
   "cell_type": "code",
   "execution_count": 132,
   "id": "70294885",
   "metadata": {},
   "outputs": [
    {
     "data": {
      "text/plain": [
       "{'x_1': 2, 'x_2': 5}"
      ]
     },
     "execution_count": 132,
     "metadata": {},
     "output_type": "execute_result"
    }
   ],
   "source": [
    "test.root_node.x_int_solution"
   ]
  },
  {
   "cell_type": "code",
   "execution_count": 135,
   "id": "9b5ef08b",
   "metadata": {},
   "outputs": [
    {
     "data": {
      "text/plain": [
       "1000.0"
      ]
     },
     "execution_count": 135,
     "metadata": {},
     "output_type": "execute_result"
    }
   ],
   "source": [
    "test.root_node.left_node.node_UB"
   ]
  },
  {
   "cell_type": "code",
   "execution_count": 136,
   "id": "2e0a5ce0",
   "metadata": {},
   "outputs": [
    {
     "data": {
      "text/plain": [
       "1033.3333333333333"
      ]
     },
     "execution_count": 136,
     "metadata": {},
     "output_type": "execute_result"
    }
   ],
   "source": [
    "test.root_node.right_node.node_UB"
   ]
  },
  {
   "cell_type": "code",
   "execution_count": 137,
   "id": "6d5fe7d9",
   "metadata": {},
   "outputs": [
    {
     "data": {
      "text/plain": [
       "{'x_1': 1.3333333333333333, 'x_2': 6.0}"
      ]
     },
     "execution_count": 137,
     "metadata": {},
     "output_type": "execute_result"
    }
   ],
   "source": [
    "test.root_node.right_node.x_solution"
   ]
  },
  {
   "cell_type": "code",
   "execution_count": 139,
   "id": "f4efc3c2",
   "metadata": {},
   "outputs": [
    {
     "data": {
      "text/plain": [
       "3"
      ]
     },
     "execution_count": 139,
     "metadata": {},
     "output_type": "execute_result"
    }
   ],
   "source": [
    "test.root_node.right_node.right_node.is_pruned"
   ]
  },
  {
   "cell_type": "code",
   "execution_count": 142,
   "id": "49907aa5",
   "metadata": {},
   "outputs": [
    {
     "name": "stdout",
     "output_type": "stream",
     "text": [
      "branch_var_name:x_2\n",
      "x_solution: {'x_1': 2.5, 'x_2': 5.0}\n",
      "x_int_solution: {'x_1': 2, 'x_2': 5}\n",
      "x_solution: {'x_1': 1.3333333333333333, 'x_2': 6.0}\n",
      "x_int_solution: {'x_1': 1, 'x_2': 6}\n",
      "branch_var_name:x_1\n",
      "x_solution: {'x_1': 1.0, 'x_2': 6.166666666666667}\n",
      "x_int_solution: {'x_1': 1, 'x_2': 6}\n",
      "branch_var_name:x_2\n",
      "x_solution: {'x_1': 1.0, 'x_2': 6.0}\n",
      "x_int_solution: {'x_1': 1, 'x_2': 6}\n",
      "Pruned by optimility\n",
      "branch_var_name:x_1\n",
      "x_solution: {'x_1': 2.0, 'x_2': 5.0}\n",
      "x_int_solution: {'x_1': 2, 'x_2': 5}\n",
      "Pruned by optimility\n",
      "Pruned by bound\n",
      "x_solution: {'x_1': 3.0, 'x_2': 4.0}\n",
      "x_int_solution: {'x_1': 3, 'x_2': 4}\n",
      "Pruned by optimility\n",
      "Pruned by bound\n"
     ]
    }
   ],
   "source": [
    "test.BandB()"
   ]
  },
  {
   "cell_type": "code",
   "execution_count": null,
   "id": "b28a8131",
   "metadata": {},
   "outputs": [],
   "source": [
    "test.root_node."
   ]
  },
  {
   "cell_type": "code",
   "execution_count": 144,
   "id": "200df2ac",
   "metadata": {},
   "outputs": [
    {
     "data": {
      "text/plain": [
       "[950.0, 1000.0, 1000.0, 1000.0, 1000.0]"
      ]
     },
     "execution_count": 144,
     "metadata": {},
     "output_type": "execute_result"
    }
   ],
   "source": [
    "test.glb_log"
   ]
  },
  {
   "cell_type": "code",
   "execution_count": 145,
   "id": "a91f36dd",
   "metadata": {},
   "outputs": [
    {
     "data": {
      "text/plain": [
       "[1055.5555555555554, 1033.3333333333333, 1025.0, 1025.0, 1025.0]"
      ]
     },
     "execution_count": 145,
     "metadata": {},
     "output_type": "execute_result"
    }
   ],
   "source": [
    "test.gub_log"
   ]
  },
  {
   "cell_type": "code",
   "execution_count": 146,
   "id": "bef123aa",
   "metadata": {},
   "outputs": [
    {
     "data": {
      "text/plain": [
       "{'x_1': 1, 'x_2': 6}"
      ]
     },
     "execution_count": 146,
     "metadata": {},
     "output_type": "execute_result"
    }
   ],
   "source": [
    "test.incumbent_solution"
   ]
  },
  {
   "cell_type": "code",
   "execution_count": null,
   "id": "26cb62dc",
   "metadata": {},
   "outputs": [],
   "source": [
    "test."
   ]
  },
  {
   "cell_type": "code",
   "execution_count": 88,
   "id": "55c504da",
   "metadata": {},
   "outputs": [
    {
     "data": {
      "text/plain": [
       "950.0"
      ]
     },
     "execution_count": 88,
     "metadata": {},
     "output_type": "execute_result"
    }
   ],
   "source": [
    "test.root_node.node_LB"
   ]
  },
  {
   "cell_type": "code",
   "execution_count": 89,
   "id": "bd146abc",
   "metadata": {},
   "outputs": [
    {
     "data": {
      "text/plain": [
       "1055.5555555555554"
      ]
     },
     "execution_count": 89,
     "metadata": {},
     "output_type": "execute_result"
    }
   ],
   "source": [
    "test.root_node.node_UB"
   ]
  },
  {
   "cell_type": "code",
   "execution_count": 71,
   "id": "d5d26551",
   "metadata": {},
   "outputs": [
    {
     "data": {
      "text/plain": [
       "{}"
      ]
     },
     "execution_count": 71,
     "metadata": {},
     "output_type": "execute_result"
    }
   ],
   "source": [
    "test.root_node.x_int_solution"
   ]
  },
  {
   "cell_type": "code",
   "execution_count": 40,
   "id": "9aba7b89",
   "metadata": {},
   "outputs": [
    {
     "data": {
      "text/plain": [
       "{'x_1': <gurobi.Var *Awaiting Model Update*>,\n",
       " 'x_2': <gurobi.Var *Awaiting Model Update*>}"
      ]
     },
     "execution_count": 40,
     "metadata": {},
     "output_type": "execute_result"
    }
   ],
   "source": [
    "# {var.varName: var.vtype for var in IP.getVars()}\n",
    "# IP.getVars()\n",
    "IP = grb.Model('IP')\n",
    "var_index = [\n",
    "    f'x_{i}'\n",
    "    for i in range(1, 3)\n",
    "]\n",
    "x_dict = IP.addVars(var_index, vtype=grb.GRB.INTEGER, name= var_index)\n",
    "x_dict"
   ]
  },
  {
   "cell_type": "code",
   "execution_count": 41,
   "id": "b4d1c2cb",
   "metadata": {},
   "outputs": [
    {
     "data": {
      "text/plain": [
       "<gurobi.Model Continuous instance IP: 0 constrs, 0 vars, Parameter changes: Username=(user-defined)>"
      ]
     },
     "execution_count": 41,
     "metadata": {},
     "output_type": "execute_result"
    }
   ],
   "source": []
  },
  {
   "cell_type": "code",
   "execution_count": 25,
   "id": "b6a29e47",
   "metadata": {},
   "outputs": [
    {
     "name": "stdout",
     "output_type": "stream",
     "text": [
      "Warning: model has pending changes.\n",
      "New model does not contain these changes.\n",
      "x_solution: {}\n",
      "x_int_solution: {}\n",
      "Pruned by optimility\n"
     ]
    }
   ],
   "source": []
  },
  {
   "cell_type": "code",
   "execution_count": 27,
   "id": "da6179c0",
   "metadata": {},
   "outputs": [
    {
     "data": {
      "text/plain": [
       "{}"
      ]
     },
     "execution_count": 27,
     "metadata": {},
     "output_type": "execute_result"
    }
   ],
   "source": [
    "test.MIP_var_vtype_dict"
   ]
  },
  {
   "cell_type": "code",
   "execution_count": 72,
   "id": "f766d890",
   "metadata": {},
   "outputs": [],
   "source": [
    "test = grb.Model()\n",
    "var_index = [\n",
    "    f'x_{i}'\n",
    "    for i in range(1, 3)\n",
    "]\n",
    "x_dict = test.addVars(var_index, vtype=grb.GRB.CONTINUOUS, name= var_index)\n",
    "var_index = [\n",
    "    f'x_{i}'\n",
    "    for i in range(3, 5)\n",
    "]\n",
    "x_dict1 = test.addVars(var_index, vtype=grb.GRB.BINARY, name=var_index)"
   ]
  },
  {
   "cell_type": "code",
   "execution_count": 35,
   "id": "13554b16",
   "metadata": {},
   "outputs": [
    {
     "data": {
      "text/plain": [
       "['b']"
      ]
     },
     "execution_count": 35,
     "metadata": {},
     "output_type": "execute_result"
    }
   ],
   "source": [
    "temp = {'a':1, 'b':0, 'c':0.25, 'd':0.4}\n",
    "list(filter(lambda x: temp[x]==0, temp))"
   ]
  },
  {
   "cell_type": "code",
   "execution_count": 39,
   "id": "4942cd89",
   "metadata": {},
   "outputs": [
    {
     "data": {
      "text/plain": [
       "('d', 0.4)"
      ]
     },
     "execution_count": 39,
     "metadata": {},
     "output_type": "execute_result"
    }
   ],
   "source": [
    "temp = (('a',1), ('b',0), ('c',0.25), ('d',0.4))\n",
    "min(temp, key=lambda x: abs(x[-1]-0.5))"
   ]
  }
 ],
 "metadata": {
  "kernelspec": {
   "display_name": "Python 3 (ipykernel)",
   "language": "python",
   "name": "python3"
  },
  "language_info": {
   "codemirror_mode": {
    "name": "ipython",
    "version": 3
   },
   "file_extension": ".py",
   "mimetype": "text/x-python",
   "name": "python",
   "nbconvert_exporter": "python",
   "pygments_lexer": "ipython3",
   "version": "3.9.1"
  }
 },
 "nbformat": 4,
 "nbformat_minor": 5
}
