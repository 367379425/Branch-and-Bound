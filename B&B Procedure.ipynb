{
 "cells": [
  {
   "cell_type": "markdown",
   "id": "2ad29cd6",
   "metadata": {},
   "source": [
    "# Branch and Bound Algorithm\n",
    "+ N. Wang\n",
    "+ 2024-06"
   ]
  },
  {
   "cell_type": "code",
   "execution_count": 1,
   "id": "c79c70be",
   "metadata": {},
   "outputs": [],
   "source": [
    "import gurobipy as grb\n",
    "from BranchAndBoundProcedure import Global_BB"
   ]
  },
  {
   "cell_type": "markdown",
   "id": "5d2595e1",
   "metadata": {},
   "source": [
    "- ① Read model"
   ]
  },
  {
   "cell_type": "code",
   "execution_count": 2,
   "id": "57eb7d48",
   "metadata": {},
   "outputs": [
    {
     "name": "stdout",
     "output_type": "stream",
     "text": [
      "Read LP format model from file .\\test_model\\SimpleIPModel_01.lp\n",
      "Reading time = 0.01 seconds\n",
      ": 2 rows, 2 columns, 4 nonzeros\n"
     ]
    }
   ],
   "source": [
    "m = grb.read(r'.\\test_model\\SimpleIPModel_01.lp')"
   ]
  },
  {
   "cell_type": "markdown",
   "id": "b6b76de1",
   "metadata": {},
   "source": [
    "- ② Create root node"
   ]
  },
  {
   "cell_type": "code",
   "execution_count": 3,
   "id": "d2ff3376",
   "metadata": {},
   "outputs": [
    {
     "name": "stdout",
     "output_type": "stream",
     "text": [
      "root node begin optimizing\n",
      "root optimization finished\n",
      "x_sol:\t{'x_1': 2.2222222222222223, 'x_2': 5.555555555555555}\n",
      "incumbent_solution:\t{'x_1': 2, 'x_2': 5}\n",
      "best_objective:\t950.0\n",
      "Global_UB:\t1055.5555555555554\n",
      "Global_LB:\t950.0\n",
      "root node is not punred\n"
     ]
    }
   ],
   "source": [
    "test = Global_BB(model=m)"
   ]
  },
  {
   "cell_type": "markdown",
   "id": "11d615d1",
   "metadata": {},
   "source": [
    "- ③ Branch"
   ]
  },
  {
   "cell_type": "code",
   "execution_count": 4,
   "id": "5e4325a0",
   "metadata": {},
   "outputs": [
    {
     "name": "stdout",
     "output_type": "stream",
     "text": [
      "node: 0 is selected to branch\n",
      "branch_var_name:x_2\n",
      "node: 0 'child node info:\n",
      "left_node 0->l info:\n",
      "x_sol:\t{'x_1': 2.5, 'x_2': 5.0}\n",
      "x_int_sol:\t{'x_1': 2, 'x_2': 5}\n",
      "UB:\t1000.0\n",
      "LB:\t950.0\n",
      "right_node 0->r info:\n",
      "x_sol:\t{'x_1': 1.3333333333333333, 'x_2': 6.0}\n",
      "x_int_sol:\t{'x_1': 1, 'x_2': 6}\n",
      "UB:\t1033.3333333333333\n",
      "LB:\t1000.0\n",
      "node: 0->r is selected to branch\n",
      "branch_var_name:x_1\n",
      "node: 0->r 'child node info:\n",
      "left_node 0->r->l info:\n",
      "x_sol:\t{'x_1': 1.0, 'x_2': 6.166666666666667}\n",
      "x_int_sol:\t{'x_1': 1, 'x_2': 6}\n",
      "UB:\t1025.0\n",
      "LB:\t1000.0\n",
      "right_node: 0->r->r is Pruned by unfeasible or unbound\n",
      "right_node 0->r->r info:\n",
      "x_sol:\tNone\n",
      "x_int_sol:\tNone\n",
      "UB:\tinf\n",
      "LB:\t0\n",
      "node: 0->r->l is selected to branch\n",
      "branch_var_name:x_2\n",
      "node: 0->r->l 'child node info:\n",
      "left_node: 0->r->l->l is Pruned by optimility\n",
      "left_node 0->r->l->l info:\n",
      "x_sol:\t{'x_1': 1.0, 'x_2': 6.0}\n",
      "x_int_sol:\t{'x_1': 1, 'x_2': 6}\n",
      "UB:\t1000.0\n",
      "LB:\t1000.0\n",
      "right_node: 0->r->l->r is Pruned by unfeasible or unbound\n",
      "right_node 0->r->l->r info:\n",
      "x_sol:\tNone\n",
      "x_int_sol:\tNone\n",
      "UB:\tinf\n",
      "LB:\t0\n",
      "node: 0->l is selected to branch\n",
      "branch_var_name:x_1\n",
      "node: 0->l 'child node info:\n",
      "left_node: 0->l->l is Pruned by bound\n",
      "left_node 0->l->l info:\n",
      "x_sol:\t{'x_1': 2.0, 'x_2': 5.0}\n",
      "x_int_sol:\t{'x_1': 2, 'x_2': 5}\n",
      "UB:\t950.0\n",
      "LB:\t950.0\n",
      "right_node: 0->l->r is Pruned by bound\n",
      "right_node 0->l->r info:\n",
      "x_sol:\t{'x_1': 3.0, 'x_2': 4.0}\n",
      "x_int_sol:\t{'x_1': 3, 'x_2': 4}\n",
      "UB:\t900.0\n",
      "LB:\t900.0\n"
     ]
    }
   ],
   "source": [
    "test.BandB()"
   ]
  },
  {
   "cell_type": "markdown",
   "id": "2e25d980",
   "metadata": {},
   "source": [
    "- ④ check output"
   ]
  },
  {
   "cell_type": "code",
   "execution_count": 5,
   "id": "fd020fef",
   "metadata": {},
   "outputs": [
    {
     "name": "stdout",
     "output_type": "stream",
     "text": [
      "best incumbent soltion:\t{'x_1': 1, 'x_2': 6}\n",
      "best objective:\t1000.0\n",
      "UB log:\t[1055.5555555555554, 1033.3333333333333, 1025.0, 1025.0, 1025.0]\n",
      "LB log:\t[950.0, 1000.0, 1000.0, 1000.0, 1000.0]\n"
     ]
    }
   ],
   "source": [
    "\n",
    "print(f\"best incumbent soltion:\\t{test.incumbent_solution}\")\n",
    "print(f\"best objective:\\t{test.best_objective}\")\n",
    "print(f\"UB log:\\t{test.gub_log}\")\n",
    "print(f\"LB log:\\t{test.glb_log}\")"
   ]
  }
 ],
 "metadata": {
  "kernelspec": {
   "display_name": "Python 3 (ipykernel)",
   "language": "python",
   "name": "python3"
  },
  "language_info": {
   "codemirror_mode": {
    "name": "ipython",
    "version": 3
   },
   "file_extension": ".py",
   "mimetype": "text/x-python",
   "name": "python",
   "nbconvert_exporter": "python",
   "pygments_lexer": "ipython3",
   "version": "3.9.1"
  }
 },
 "nbformat": 4,
 "nbformat_minor": 5
}
